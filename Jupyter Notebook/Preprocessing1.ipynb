{
 "cells": [
  {
   "cell_type": "code",
   "execution_count": 2,
   "id": "c3b393bc",
   "metadata": {},
   "outputs": [
    {
     "name": "stderr",
     "output_type": "stream",
     "text": [
      "C:\\Users\\41779\\anaconda3\\lib\\site-packages\\numpy\\_distributor_init.py:30: UserWarning: loaded more than 1 DLL from .libs:\n",
      "C:\\Users\\41779\\anaconda3\\lib\\site-packages\\numpy\\.libs\\libopenblas.PYQHXLVVQ7VESDPUVUADXEVJOBGHJPAY.gfortran-win_amd64.dll\n",
      "C:\\Users\\41779\\anaconda3\\lib\\site-packages\\numpy\\.libs\\libopenblas.WCDJNK7YVMPZQ2ME2ZZHJJRJ3JIKNDB7.gfortran-win_amd64.dll\n",
      "  warnings.warn(\"loaded more than 1 DLL from .libs:\\n%s\" %\n"
     ]
    }
   ],
   "source": [
    "import pandas as pd\n",
    "import numpy as np\n",
    "import matplotlib.pyplot as plt\n",
    "import seaborn as sns\n",
    "import json\n",
    "import cassandra\n",
    "from cassandra.cluster import Cluster\n",
    "from cassandra.auth import PlainTextAuthProvider\n",
    "import logging"
   ]
  },
  {
   "cell_type": "code",
   "execution_count": 4,
   "id": "4028cda5",
   "metadata": {},
   "outputs": [],
   "source": [
    "logging.basicConfig(\n",
    "    filename='logging_preprocessing_file1.txt',\n",
    "    level=logging.DEBUG,\n",
    "    format='%(asctime)s.%(msecs)03d %(levelname)s - %(message)s',\n",
    "    datefmt='%Y-%m-%d %H:%M:%S',\n",
    "    filemode=\"a\"\n",
    "    \n",
    ")\n",
    "\n",
    "logging.warning(\"Warning message while importing the module\")"
   ]
  },
  {
   "cell_type": "code",
   "execution_count": null,
   "id": "4d0e03b9",
   "metadata": {},
   "outputs": [],
   "source": [
    "\n",
    "cluster = Cluster(\n",
    "    contact_points=['127.0.0.1'], \n",
    "    auth_provider = PlainTextAuthProvider(username='cassandra', password='cassandra')\n",
    ")\n",
    "session = cluster.connect()\n",
    "session.set_keyspace('custom')\n",
    "session.row_factory = pandas_factory\n",
    "session.default_fetch_size = 10000000 #needed for large queries, otherwise driver will do pagination. Default is 50000.\n",
    "\n",
    "\n",
    "sql_query1 = \"SELECT * FROM {}.{};\".format(CASSANDRA_DB, CASSANDRA_TRAIN_TABLE)\n",
    "sql_query2 = \"SELECT * FROM {}.{};\".format(CASSANDRA_DB, CASSANDRA_TEST_TABLE)\n",
    "\n",
    "train_df = pd.DataFrame()\n",
    "test_df = pd.DataFrame()\n",
    "\n",
    "for row in session.execute(sql_query1):\n",
    "    train_df = train_df.append(pd.DataFrame(row, index=[0]))\n",
    "\n",
    "for row in session.execute(sql_query2):\n",
    "    test_df = test_df.append(pd.DataFrame(row, index=[0]))\n",
    "    \n",
    "    \n",
    "logging.info(\"Date appended in pandas dataframe from casandra database\")"
   ]
  },
  {
   "cell_type": "code",
   "execution_count": null,
   "id": "ecb0421a",
   "metadata": {},
   "outputs": [],
   "source": [
    "train_df.to_pickle(\"train_data\")\n",
    "test_df.to_pickle(\"test_df\")"
   ]
  },
  {
   "cell_type": "code",
   "execution_count": null,
   "id": "1f4f5b97",
   "metadata": {},
   "outputs": [],
   "source": [
    "def change_customDimensions(x):\n",
    "    if x == \"[]\":\n",
    "        return np.nan\n",
    "    else:\n",
    "        return x[26:-3]\n",
    "train_df[\"customDimensions\"]=train_df[\"customDimensions\"].apply(change_customDimensions)\n",
    "train_df[\"customDimensions\"]=test_df[\"customDimensions\"].apply(change_customDimensions)"
   ]
  },
  {
   "cell_type": "code",
   "execution_count": null,
   "id": "a7889054",
   "metadata": {},
   "outputs": [],
   "source": [
    "# Converting Json column into Pandas DataFrame\n",
    "\n",
    "def convert_json_col(data):\n",
    "    columns=[\"device\",\"geoNetwork\",\"totals\",\"trafficSource\"]\n",
    "    for col in columns:\n",
    "        data[col]=data[col].map(lambda x:json.loads(x))\n",
    "        df2=pd.json_normalize(data[col])\n",
    "        data.columns=[f\"{col}.{subcol}\" for subcol in data.columns]\n",
    "        data=pd.concat([data,df2],axis=1)\n",
    "        \n",
    "train_df=convert_json_col(train_df)\n",
    "test_df=convert_json_col(test_df)\n",
    "logging.info(\"Converted JSON column into Pandas Dataframe\")"
   ]
  },
  {
   "cell_type": "code",
   "execution_count": null,
   "id": "a37d4afe",
   "metadata": {},
   "outputs": [],
   "source": [
    "# \"hit\" column does not give any information so just delete it.\n",
    "test_df=test_df.drop([\"device\",\"geoNetwork\",\"totals\",\"trafficSource\",\"hits\"],axis=1)\n",
    "train_df=train_df.drop([\"device\",\"geoNetwork\",\"totals\",\"trafficSource\",\"hits\"],axis=1)\n",
    "logging.info(\"Features which are not informative have been dropped\")"
   ]
  },
  {
   "cell_type": "code",
   "execution_count": null,
   "id": "563e2a10",
   "metadata": {},
   "outputs": [],
   "source": [
    "def drop_unusual_column(data):\n",
    "    ### These columns does not contain any informations so drop these.\n",
    "    col_to_drop=[\"device.browserSize\",\"device.browserVersion\",\"device.flashVersion\",\"device.language\",\n",
    "                \"device.mobileDeviceBranding\",\"device.mobileDeviceInfo\",\"device.mobileDeviceMarketingName\",\n",
    "                \"totals.visits\",\"geoNetwork.cityId\",\"geoNetwork.latitude\",\"geoNetwork.longitude\",\n",
    "                \"geoNetwork.networkLocation\",\"trafficSource.adwordsClickInfo.criteriaParameters\",\"socialEngagementType\"]\n",
    "    train.drop(col_to_drop,inplace=True,axis=1)\n",
    "    \n",
    "train_df=drop_unusual_column(train_df)\n",
    "test_df=drop_unusual_column(test_df)\n",
    "\n",
    "logging.info(\"Deleted columns which does not give any information to our model\")"
   ]
  },
  {
   "cell_type": "code",
   "execution_count": null,
   "id": "0d83a431",
   "metadata": {},
   "outputs": [],
   "source": [
    "train_test_df=pd.concat([train,test],axis=0)\n",
    "\n",
    "logging.info(\"Merged the train and test dataframe\")"
   ]
  }
 ],
 "metadata": {
  "kernelspec": {
   "display_name": "Python 3 (ipykernel)",
   "language": "python",
   "name": "python3"
  },
  "language_info": {
   "codemirror_mode": {
    "name": "ipython",
    "version": 3
   },
   "file_extension": ".py",
   "mimetype": "text/x-python",
   "name": "python",
   "nbconvert_exporter": "python",
   "pygments_lexer": "ipython3",
   "version": "3.8.8"
  }
 },
 "nbformat": 4,
 "nbformat_minor": 5
}
